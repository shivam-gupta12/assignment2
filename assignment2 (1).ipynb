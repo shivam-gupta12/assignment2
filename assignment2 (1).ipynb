{
 "cells": [
  {
   "cell_type": "code",
   "execution_count": 2,
   "id": "2324e3b4-40d0-4a58-be71-b43f10ece889",
   "metadata": {},
   "outputs": [
    {
     "name": "stdin",
     "output_type": "stream",
     "text": [
      "Enter marks percentage 60\n"
     ]
    },
    {
     "name": "stdout",
     "output_type": "stream",
     "text": [
      "Grade=C\n"
     ]
    }
   ],
   "source": [
    "#question 1\n",
    "marks=int(input(\"Enter marks percentage\"))\n",
    "if marks>90:\n",
    "    print(\"Grade=A\")\n",
    "elif marks>80 and marks<=90:\n",
    "    print(\"Grade=B\")\n",
    "elif marks>=60 and marks<=80:\n",
    "    print(\"Grade=C\")\n",
    "else:\n",
    "    print(\"Grade=D\")"
   ]
  },
  {
   "cell_type": "code",
   "execution_count": 8,
   "id": "cf67fcaa-8666-4abb-8be8-771016b791fb",
   "metadata": {},
   "outputs": [
    {
     "name": "stdin",
     "output_type": "stream",
     "text": [
      "Enter cost price of the bike 50000\n"
     ]
    },
    {
     "name": "stdout",
     "output_type": "stream",
     "text": [
      "Road tax to be paid is 5%\n"
     ]
    }
   ],
   "source": [
    "#question 2\n",
    "cost_price=int(input(\"Enter cost price of the bike\"))\n",
    "if cost_price>100000:\n",
    "    print(\"Road tax to be paid is 15%\")\n",
    "elif cost_price>50000 and cost_price<=100000:\n",
    "    print(\"Road tax to be paid is 10%\")\n",
    "else:\n",
    "    print(\"Road tax to be paid is 5%\")"
   ]
  },
  {
   "cell_type": "code",
   "execution_count": 1,
   "id": "b0beb3a3-214b-427d-a336-7915f30874ef",
   "metadata": {},
   "outputs": [
    {
     "name": "stdin",
     "output_type": "stream",
     "text": [
      "Enter city Jaipur\n"
     ]
    },
    {
     "name": "stdout",
     "output_type": "stream",
     "text": [
      "Jal Mahal\n"
     ]
    }
   ],
   "source": [
    "#question 3\n",
    "city=input(\"Enter city\")\n",
    "if city=='Delhi':\n",
    "    print(\"Red Fort\")\n",
    "elif city=='Agra':\n",
    "    print(\"Taj Mahal\")\n",
    "elif city=='Jaipur':\n",
    "    print(\"Jal Mahal\")"
   ]
  },
  {
   "cell_type": "code",
   "execution_count": 6,
   "id": "208911c7-e189-474a-9811-80d52b569349",
   "metadata": {},
   "outputs": [
    {
     "name": "stdin",
     "output_type": "stream",
     "text": [
      "Enter a number 30\n"
     ]
    },
    {
     "name": "stdout",
     "output_type": "stream",
     "text": [
      "1\n"
     ]
    }
   ],
   "source": [
    "#question 4\n",
    "count=0\n",
    "number=int(input(\"Enter a number\"))\n",
    "while(number>10):\n",
    "    number=number/3\n",
    "    count=count+1\n",
    "print(count)"
   ]
  },
  {
   "cell_type": "code",
   "execution_count": null,
   "id": "c2ba40da-df40-453d-94f4-1d3a35fd40db",
   "metadata": {},
   "outputs": [],
   "source": [
    "#question 5\n",
    "A \"While\" Loop is used to repeat a specific block of code an unknown number of times, until a condition is met. \n",
    "For example -if a person wants to enter a number between 5 and 10, we dont know how many times the person may enter an out of bound number.\n",
    "Thus we use a while loop and keep asking the person \"while the number is not between 5 and 10\"."
   ]
  },
  {
   "cell_type": "code",
   "execution_count": 1,
   "id": "1b9a56bb-a94d-4626-bfb6-a5bcdef844ef",
   "metadata": {},
   "outputs": [
    {
     "name": "stdout",
     "output_type": "stream",
     "text": [
      "* \n",
      "* * \n",
      "* * * \n",
      "* * * * \n"
     ]
    }
   ],
   "source": [
    "#question 6\n",
    "i = 1\n",
    "# outer while loop\n",
    "# 4 rows in pattern\n",
    "while i < 5:\n",
    "    j = 0\n",
    "    # nested while loop\n",
    "    while j < i:\n",
    "        print('*', end=' ')\n",
    "        j = j + 1\n",
    "    # end of nested while loop\n",
    "    # new line after each row\n",
    "    print('')\n",
    "    i = i + 1\n"
   ]
  },
  {
   "cell_type": "code",
   "execution_count": 8,
   "id": "19738724-2097-485f-9966-0f8750f8eeeb",
   "metadata": {},
   "outputs": [
    {
     "name": "stdout",
     "output_type": "stream",
     "text": [
      "10\n",
      "9\n",
      "8\n",
      "7\n",
      "6\n",
      "5\n",
      "4\n",
      "3\n",
      "2\n",
      "1\n"
     ]
    }
   ],
   "source": [
    "#question 7 \n",
    "i = 10\n",
    "while i > 0:\n",
    "    print(i)\n",
    "    i = i - 1"
   ]
  },
  {
   "cell_type": "code",
   "execution_count": null,
   "id": "de59d936-a238-48f1-9e7c-3dd5643b0804",
   "metadata": {},
   "outputs": [],
   "source": [
    "#question 8 same as 7"
   ]
  }
 ],
 "metadata": {
  "kernelspec": {
   "display_name": "Python 3 (ipykernel)",
   "language": "python",
   "name": "python3"
  },
  "language_info": {
   "codemirror_mode": {
    "name": "ipython",
    "version": 3
   },
   "file_extension": ".py",
   "mimetype": "text/x-python",
   "name": "python",
   "nbconvert_exporter": "python",
   "pygments_lexer": "ipython3",
   "version": "3.10.8"
  }
 },
 "nbformat": 4,
 "nbformat_minor": 5
}
